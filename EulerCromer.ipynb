








<!DOCTYPE html>
<html lang="en">

<head>
  <meta charset="utf-8">
  <title>Jupyter Notebook Viewer</title>
  <meta name="viewport" content="width=device-width, initial-scale=1.0">
  <meta name="description" content="">
  <meta name="author" content="">
  
  <meta name="robots" content="noindex,nofollow">
  

  <!--NEW RELIC Start Perf Measurement-->
  
  <!--NREND-->

  <!-- Le styles -->
  <link href="/static/build/styles.css" rel="stylesheet">

  <!-- Le HTML5 shim, for IE6-8 support of HTML5 elements -->
  <!--[if lt IE 9]>
    <script src="http://html5shim.googlecode.com/svn/trunk/html5.js"></script>
  <![endif]-->

  <!-- Le fav and touch icons -->
  <link rel="shortcut icon" href="/static/ico/ipynb_icon_16x16.png">
  <link rel="apple-touch-icon-precomposed" sizes="144x144"
        href="/static/ico/apple-touch-icon-144-precomposed.png">
  <link rel="apple-touch-icon-precomposed" sizes="114x114"
        href="/static/ico/apple-touch-icon-114-precomposed.png">
  <link rel="apple-touch-icon-precomposed" sizes="72x72"
        href="/static/ico/apple-touch-icon-72-precomposed.png">
  <link rel="apple-touch-icon-precomposed"
        href="/static/ico/apple-touch-icon-57-precomposed.png">
  
  

  

  
  <meta name="twitter:card" content="summary">
  <meta name="twitter:title" content="Notebook on nbviewer">
  <meta name="twitter:description" content="Check out this Jupyter notebook!">

  
  <meta name="twitter:domain" content="nbviewer.jupyter.org">
  <meta name="twitter:image:src" content="http://ipython.org/ipython-doc/dev/_images/ipynb_icon_128x128.png">

  
    <link href="/static/build/notebook.css" rel="stylesheet">
  

  

  
    <script src="https://cdnjs.cloudflare.com/ajax/libs/mathjax/2.7.1/MathJax.js?config=TeX-AMS_HTML" type="text/javascript">
    </script>
    <script type="text/javascript">
      init_mathjax = function() {
        if (window.MathJax) {
          // MathJax loaded
          MathJax.Hub.Config({
            TeX: {
              equationNumbers: {
                autoNumber: "AMS",
                useLabelIds: true
              }
            },
            tex2jax: {
              inlineMath: [ ['$','$'], ["\\(","\\)"] ],
              displayMath: [ ['$$','$$'], ["\\[","\\]"] ],
              processEscapes: true,
              processEnvironments: true
            },
            displayAlign: 'center',
            "HTML-CSS": {
              styles: {'.MathJax_Display': {"margin": 0}},
              linebreaks: { automatic: true }
            }
          });
          MathJax.Hub.Queue(["Typeset", MathJax.Hub]);
        }
      }
      init_mathjax();
    </script>
  

  
    <script>
      (function() {
        function addWidgetsRenderer() {
          var mimeElement = document.querySelector('script[type="application/vnd.jupyter.widget-view+json"]');
          var scriptElement = document.createElement('script');
          var widgetRendererSrc = 'https://unpkg.com/@jupyter-widgets/html-manager@*/dist/embed-amd.js';
          var widgetState;

          try {
            widgetState = mimeElement && JSON.parse(mimeElement.innerHTML);

            if (widgetState && (widgetState.version_major < 2 || !widgetState.version_major)) {
              widgetRendererSrc = 'https://unpkg.com/jupyter-js-widgets@*/dist/embed.js';
            }
          } catch(e) {}

          scriptElement.src = widgetRendererSrc;
          document.body.appendChild(scriptElement);
        }

        document.addEventListener('DOMContentLoaded', addWidgetsRenderer);
      }());
    </script>
  

</head>

<body class="nbviewer">

  <!-- These are loaded at the top of the body so they are available to
       notebook cells when they are loaded below. -->
  <script src="/static/components/jquery/dist/jquery.min.js"></script>
  <script src="/static/components/requirejs/require.js"></script>
  <script src="/static/components/moment/min/moment.min.js"></script>
<!-- Navbar
================================================== -->
  <nav id="menubar" class="navbar navbar-default navbar-fixed-top" data-spy="affix">
    <div class="container">
      <div class="navbar-header">
        <button type="button" class="navbar-toggle collapsed" data-toggle="collapse" data-target=".navbar-collapse">
          <span class="sr-only">Toggle navigation</span>
          <i class="fa fa-bars"></i>
        </button>
        <a class="navbar-brand" href="/">
          <img src="/static/img/nav_logo.svg" width="159"/>
        </a>
      </div>

      <div class="collapse navbar-collapse">
        <ul class="nav navbar-nav navbar-right">
          <li>
            <a class="active" href="https://jupyter.org">JUPYTER</a>
          </li>
          <li>
    <a href="/faq" title="FAQ" >
      
        <span>FAQ</span>
      
    </a>
  </li>

          
  
    
  
    
      
        <li>
    <a href="script/url/dl.dropbox.com/s/82g6d2vd07c5i1z/EulerCromer.ipynb" title="View as Code" >
      <span class="fa fa-code fa-2x menu-icon"></span>
      <span class="menu-text">View as Code</span>
    </a>
  </li>
      
    
  

  

  

  

  <li>
    <a href="https://dl.dropbox.com/s/82g6d2vd07c5i1z/EulerCromer.ipynb" title="Download Notebook" download>
      <span class="fa fa-download fa-2x menu-icon"></span>
      <span class="menu-text">Download Notebook</span>
    </a>
  </li>

        </ul>
      </div><!-- /.navbar-collapse -->
      
      
    </div>
  </nav>

  <div class="container container-main">
    
  
  <div id="notebook">
    <div id="notebook-container">
      <div class="cell border-box-sizing text_cell rendered"><div class="prompt input_prompt">
</div><div class="inner_cell">
<div class="text_cell_render border-box-sizing rendered_html">
<h1 id="Solving-Differential-Equations-with-the-Euler-Cromer-Method">Solving Differential Equations with the Euler-Cromer Method<a class="anchor-link" href="#Solving-Differential-Equations-with-the-Euler-Cromer-Method">&#182;</a></h1>
</div>
</div>
</div>
<div class="cell border-box-sizing text_cell rendered"><div class="prompt input_prompt">
</div><div class="inner_cell">
<div class="text_cell_render border-box-sizing rendered_html">
<p>You will encounter differential equations that cannot be solved analytically. However, there are numerical methods that can be used to solve them with a computer. For many second-order, ordinary differential equations, a fairly simple approach called the Euler-Cromer Method is sufficient. This method was used frequently in Physics 231, but the name may not have been mentioned. (Note that it is referred to as the "last point approximation" or LPA in the refrence below.)</p>

</div>
</div>
</div>
<div class="cell border-box-sizing text_cell rendered"><div class="prompt input_prompt">
</div><div class="inner_cell">
<div class="text_cell_render border-box-sizing rendered_html">
<h2 id="Notation">Notation<a class="anchor-link" href="#Notation">&#182;</a></h2>
</div>
</div>
</div>
<div class="cell border-box-sizing text_cell rendered"><div class="prompt input_prompt">
</div><div class="inner_cell">
<div class="text_cell_render border-box-sizing rendered_html">
<p>We will use shorthand notation for time derivatives where</p>
$$
\dot{x} = \frac{dx}{dt} 
$$<p>and</p>
$$
\ddot{x} = \frac{d^2x}{dt^2}.
$$<p></p>
<p>In other words, the number of dots indicates the number of time derivatives.<br>
We’ll be finding the value of $x(t)$ at discrete values of
$t$. Label these times with integer subscripts as</p>
$$
t_1 = t_0 + \Delta t \\
t_2 = t_0 + 2\Delta t \\
\vdots \\
t_i = t_0 + i\;\Delta t
$$<p></p>
<p>where $t_0$ is the initial time and $\Delta t$ is the time interval between the subsequent solutions. We will also label the values of the function at these time with integers as</p>
$$
x_0 = x(t_0) \\
x_1 = x(t_1) \\
\vdots \\
x_i = x(t_i).
$$<p></p>
<p>Similarly, the derivatives at step $i$ are</p>
$$
\dot{x}_i = \dot{x}(t_i)
$$<p></p>
<p>and</p>
$$\ddot{x}_i = \ddot{x}(t_i).$$
</div>
</div>
</div>
<div class="cell border-box-sizing text_cell rendered"><div class="prompt input_prompt">
</div><div class="inner_cell">
<div class="text_cell_render border-box-sizing rendered_html">
<h2 id="The-Problem">The Problem<a class="anchor-link" href="#The-Problem">&#182;</a></h2>
</div>
</div>
</div>
<div class="cell border-box-sizing text_cell rendered"><div class="prompt input_prompt">
</div><div class="inner_cell">
<div class="text_cell_render border-box-sizing rendered_html">
<p>The form of the second-order differential equation to be solved is</p>
$$
\frac{d^2x}{dt^2} = f\left(x, \frac{dx}{dt}, t\right),
$$<p></p>
<p>or, in the more compact notation, it is</p>
$$
\ddot{x} = f\left(x, \dot{x}, t\right),
$$<p></p>
<p>where the initial values of the variable ($x_0$) and its first derivative ($\dot{x}_0$) are known at the initial time ($t_0$).We want to find $x$ and $\dot{x}$ at later times.</p>

</div>
</div>
</div>
<div class="cell border-box-sizing text_cell rendered"><div class="prompt input_prompt">
</div><div class="inner_cell">
<div class="text_cell_render border-box-sizing rendered_html">
<h2 id="Euler-Method">Euler Method<a class="anchor-link" href="#Euler-Method">&#182;</a></h2>
</div>
</div>
</div>
<div class="cell border-box-sizing text_cell rendered"><div class="prompt input_prompt">
</div><div class="inner_cell">
<div class="text_cell_render border-box-sizing rendered_html">
<p>The simplest numerical method to solve differential equations is the Euler Method. The derivatives at step $i$ can be approximated as</p>
$$
\dot{x}_i = \frac{dx}{dt}\bigg|_{t_i} \approx \frac{x(t_{i+1}) - x(t_{i})}{\Delta t} = \frac{x_{i+1} - x_i}{\Delta t}
$$<p></p>
<p>and</p>
$$
\ddot{x}_i = \frac{d^2x}{dt^2}\bigg|_{t_i} \approx \frac{\dot{x}(t_{i+1}) - \dot{x}(t_{i})}{\Delta t} = \frac{\dot{x}_{i+1} - \dot{x}_i}{\Delta t} .
$$<p></p>
<p>Suppose that $x$ and $\dot{x}$ are known at some time. Rearranging the equation for the first derivative, the approximate the solution after moving a step forward in time is</p>
$$
x_{i+1} \approx x_i + \dot{x}_i\Delta t.
$$<p></p>
<p>To find the solution at another step forward in time, we will need to know the first derivative at that later time. Rearranging the equation for the second derivative, the approximate first derivative after moving a step forward in time is</p>
$$
\dot{x}_{i+1} \approx \dot{x}_i + \ddot{x}_i\Delta t 
= \dot{x}_i + f(x_i,\dot{x}_i,t_i)\Delta t,
$$<p></p>
<p>where we insert the function for the second derivative. These final two equations can be used iteratively to find the approximate solution at later times. Unfortunately, this method is not very accurate after a while. (For classical mechanics problems, this method often doesn't conserve energy.)</p>

</div>
</div>
</div>
<div class="cell border-box-sizing text_cell rendered"><div class="prompt input_prompt">
</div><div class="inner_cell">
<div class="text_cell_render border-box-sizing rendered_html">
<h2 id="Euler-Cromer-Method">Euler-Cromer Method<a class="anchor-link" href="#Euler-Cromer-Method">&#182;</a></h2>
</div>
</div>
</div>
<div class="cell border-box-sizing text_cell rendered"><div class="prompt input_prompt">
</div><div class="inner_cell">
<div class="text_cell_render border-box-sizing rendered_html">
<p>A simple modification to the method described above greatly improves the accuracy of the numerical solution. First, calculate the value of the second derivative at the current time,</p>
$$
\ddot{x}_i = f(x_i,\dot{x}_i,t_i),
$$<p></p>
<p>and use it to approximate first derivative after a step forward in time,</p>
$$
\dot{x}_{i+1} \approx \dot{x}_i + \ddot{x}_i\Delta t.
$$<p></p>
<p>Next, the value of the varible at a later time is approximated by</p>
$$
x_{i+1} \approx x_i + \dot{x}_{i+1}\Delta t,
$$<p></p>
<p>where the first derivative at the later time is used.<br>
Note the slight difference between this approach and the Euler Method. The current value of $\ddot{x}$ (which may depend on the current values of $x$, $\dot{x}$, and $t$) is used to calculate a new value of $\dot{x}$. However, the new value of $\dot{x}$ is used to calculate the new value of $x$.</p>

</div>
</div>
</div>
<div class="cell border-box-sizing text_cell rendered"><div class="prompt input_prompt">
</div><div class="inner_cell">
<div class="text_cell_render border-box-sizing rendered_html">
<h2 id="Implementation-in-Python">Implementation in Python<a class="anchor-link" href="#Implementation-in-Python">&#182;</a></h2>
</div>
</div>
</div>
<div class="cell border-box-sizing text_cell rendered"><div class="prompt input_prompt">
</div><div class="inner_cell">
<div class="text_cell_render border-box-sizing rendered_html">
<p>As an example, we can numerically solve the differential equation</p>
$$
\frac{d^2x}{dt^2} = -kx,
$$<p></p>
<p>for $k=5$ and with initial conditions $x=10$ and $\dot{x}=0$ at $t=0$. In the program, the first and second derivatives of $x$
will be called $xd$ and $xdd$, respectively. (Thinks of each "$d$" as a dot in the shorthand notation for derivatives.) The first part of the program prepares for the calculation. The pylab library is imported so that the results can be plotted. The constant, initial values of $x$, $xd$, and $xdd$, time step $dt$, and final time $tf$ are set. Three empty lists ($t\_list$, $x\_list$, and $xd\_list$) are created to hold the results. The inital values of $t$, $x$, and $xd$ are appended to these lists.</p>

</div>
</div>
</div>
<div class="cell border-box-sizing code_cell rendered">
<div class="input">
<div class="prompt input_prompt">In&nbsp;[1]:</div>
<div class="inner_cell">
    <div class="input_area">
<div class=" highlight hl-ipython3"><pre><span></span><span class="kn">from</span> <span class="nn">pylab</span> <span class="kn">import</span> <span class="o">*</span>

<span class="c1"># constants</span>
<span class="n">k</span> <span class="o">=</span> <span class="mi">5</span>

<span class="c1"># set inital values, time step, &amp; final time</span>
<span class="n">t</span> <span class="o">=</span> <span class="mi">0</span>
<span class="n">x</span> <span class="o">=</span> <span class="mi">10</span>
<span class="n">xd</span> <span class="o">=</span> <span class="mi">0</span>
<span class="n">dt</span> <span class="o">=</span> <span class="mf">0.001</span>
<span class="n">tf</span> <span class="o">=</span> <span class="mi">10</span>

<span class="c1"># make empty lists &amp; append initial values to lists</span>
<span class="n">t_list</span> <span class="o">=</span> <span class="p">[]</span> 
<span class="n">x_list</span> <span class="o">=</span> <span class="p">[]</span>
<span class="n">xd_list</span> <span class="o">=</span> <span class="p">[]</span>
<span class="n">t_list</span><span class="o">.</span><span class="n">append</span><span class="p">(</span><span class="n">t</span><span class="p">)</span>
<span class="n">x_list</span><span class="o">.</span><span class="n">append</span><span class="p">(</span><span class="n">x</span><span class="p">)</span>
<span class="n">xd_list</span><span class="o">.</span><span class="n">append</span><span class="p">(</span><span class="n">xd</span><span class="p">)</span>
</pre></div>

    </div>
</div>
</div>

</div>
<div class="cell border-box-sizing text_cell rendered"><div class="prompt input_prompt">
</div><div class="inner_cell">
<div class="text_cell_render border-box-sizing rendered_html">
<p>The main part of the program is the loop that calculates $x$ and its first derivative ($xd$) at time steps of $dt$ using the Euler-Cromer method. The results for each step are appended to the lists. For this example, the calculation continues until the time reaches $tf$.</p>

</div>
</div>
</div>
<div class="cell border-box-sizing code_cell rendered">
<div class="input">
<div class="prompt input_prompt">In&nbsp;[2]:</div>
<div class="inner_cell">
    <div class="input_area">
<div class=" highlight hl-ipython3"><pre><span></span><span class="k">while</span> <span class="p">(</span><span class="n">t</span> <span class="o">&lt;</span> <span class="n">tf</span><span class="p">):</span>
    <span class="c1"># calculate new values</span>
    <span class="n">xdd</span> <span class="o">=</span> <span class="o">-</span><span class="n">k</span><span class="o">*</span><span class="n">x</span>       <span class="c1"># Calculate d2x/dt2 using the current x &amp; dx/dt</span>
    <span class="n">xd</span> <span class="o">=</span> <span class="n">xd</span> <span class="o">+</span> <span class="n">xdd</span><span class="o">*</span><span class="n">dt</span> <span class="c1"># Use d2x/dt2 to update dx/dt</span>
    <span class="n">x</span> <span class="o">=</span> <span class="n">x</span> <span class="o">+</span> <span class="n">xd</span><span class="o">*</span><span class="n">dt</span>   <span class="c1"># Use the updated dx/dt to update x</span>
    <span class="n">t</span> <span class="o">=</span> <span class="n">t</span> <span class="o">+</span> <span class="n">dt</span>      <span class="c1"># Advance t by a step dt</span>
    <span class="c1"># append new values to lists</span>
    <span class="n">t_list</span><span class="o">.</span><span class="n">append</span><span class="p">(</span><span class="n">t</span><span class="p">)</span>
    <span class="n">x_list</span><span class="o">.</span><span class="n">append</span><span class="p">(</span><span class="n">x</span><span class="p">)</span>
    <span class="n">xd_list</span><span class="o">.</span><span class="n">append</span><span class="p">(</span><span class="n">xd</span><span class="p">)</span>
</pre></div>

    </div>
</div>
</div>

</div>
<div class="cell border-box-sizing text_cell rendered"><div class="prompt input_prompt">
</div><div class="inner_cell">
<div class="text_cell_render border-box-sizing rendered_html">
<p>The results were stored in lists so that they can be used. After the calculations are complete, $x$ and $\dot{x}=dx/dt$ can plotted versus $t$ as shown below.</p>

</div>
</div>
</div>
<div class="cell border-box-sizing code_cell rendered">
<div class="input">
<div class="prompt input_prompt">In&nbsp;[3]:</div>
<div class="inner_cell">
    <div class="input_area">
<div class=" highlight hl-ipython3"><pre><span></span><span class="c1"># plot the x and dx/dt vs. time (from the lists)</span>
<span class="n">figure</span><span class="p">()</span>
<span class="n">plot</span><span class="p">(</span><span class="n">t_list</span><span class="p">,</span><span class="n">x_list</span><span class="p">,</span> <span class="n">ls</span><span class="o">=</span><span class="s1">&#39;-&#39;</span><span class="p">,</span> <span class="n">c</span><span class="o">=</span><span class="s1">&#39;b&#39;</span><span class="p">)</span>
<span class="n">xlabel</span><span class="p">(</span><span class="s1">&#39;t&#39;</span><span class="p">)</span>
<span class="n">ylabel</span><span class="p">(</span><span class="s1">&#39;x&#39;</span><span class="p">)</span>

<span class="n">figure</span><span class="p">()</span>
<span class="n">plot</span><span class="p">(</span><span class="n">t_list</span><span class="p">,</span><span class="n">xd_list</span><span class="p">,</span> <span class="n">ls</span><span class="o">=</span><span class="s1">&#39;-&#39;</span><span class="p">,</span> <span class="n">c</span><span class="o">=</span><span class="s1">&#39;b&#39;</span><span class="p">)</span>
<span class="n">xlabel</span><span class="p">(</span><span class="s1">&#39;t&#39;</span><span class="p">)</span>
<span class="n">ylabel</span><span class="p">(</span><span class="s1">&#39;dx/dt&#39;</span><span class="p">)</span>

<span class="n">show</span><span class="p">()</span>
</pre></div>

    </div>
</div>
</div>

<div class="output_wrapper">
<div class="output">


<div class="output_area">

    <div class="prompt"></div>




<div class="output_png output_subarea ">
<img src="data:image/png;base64,iVBORw0KGgoAAAANSUhEUgAAAYgAAAEPCAYAAABY9lNGAAAABHNCSVQICAgIfAhkiAAAAAlwSFlz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==
"
>
</div>

</div>

<div class="output_area">

    <div class="prompt"></div>




<div class="output_png output_subarea ">
<img src="data:image/png;base64,iVBORw0KGgoAAAANSUhEUgAAAYgAAAEPCAYAAABY9lNGAAAABHNCSVQICAgIfAhkiAAAAAlwSFlz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"
>
</div>

</div>

</div>
</div>

</div>
<div class="cell border-box-sizing text_cell rendered"><div class="prompt input_prompt">
</div><div class="inner_cell">
<div class="text_cell_render border-box-sizing rendered_html">
<p>It is important to check that the time step used was small enough to get accurate results. If $dt$ is small enough, changing it slightly won't change the results.</p>

</div>
</div>
</div>
<div class="cell border-box-sizing text_cell rendered"><div class="prompt input_prompt">
</div><div class="inner_cell">
<div class="text_cell_render border-box-sizing rendered_html">
<p>Note that this method can be used for ordinary, second-order differential equations, even if the function depends of something other than time. For example, it could be used to solve</p>
$$
\frac{d^2z}{dx^2} = 3z - \frac{dz}{dx}
$$<p></p>
<p>for $z(x)$.</p>

</div>
</div>
</div>
<div class="cell border-box-sizing text_cell rendered"><div class="prompt input_prompt">
</div><div class="inner_cell">
<div class="text_cell_render border-box-sizing rendered_html">
<h2 id="Reference">Reference<a class="anchor-link" href="#Reference">&#182;</a></h2>
</div>
</div>
</div>
<div class="cell border-box-sizing text_cell rendered"><div class="prompt input_prompt">
</div><div class="inner_cell">
<div class="text_cell_render border-box-sizing rendered_html">
<p><a href="http://scitation.aip.org/content/aapt/journal/ajp/49/5/10.1119/1.12478">Alan Cromer, "Stable solutions using the Euler approximation," <em>Am. J. Phys.</em> <strong>49</strong>, 455-459 (1981).</a></p>

</div>
</div>
</div>
 


    </div>
  </div>

  </div>


  
    <footer class="footer hidden-print">
      <div class="container">
        <div class="col-md-4">
          <p>
            This website does not host notebooks, it only renders notebooks
            available on other websites.
          </p>
        </div>

        <div class="col-md-4">
          <p>
            Delivered by <a href="https://www.fastly.com/">Fastly</a>,
            Rendered by <a href="https://ovhcloud.com">OVHcloud</a>
          </p>
          <p>
            nbviewer GitHub <a href="https://github.com/jupyter/nbviewer">repository</a>.
          </p>
        </div>

        <div class="col-md-4">
          
  
            
              <p>
                nbviewer version:
                <a href="https://github.com/jupyter/nbviewer/commit/90c61ccda0e4ae08ce46511c45505b49663fb019">
                  90c61cc
                </a>
              </p>
            
          
  
  <p>
    nbconvert version: <a href="https://github.com/jupyter/nbconvert/releases/tag/5.6.1">
      5.6.1
    </a>
  </p>
  

          
  
  
  <p>
    Rendered
    <span class='date' data-date='Mon, 30 Aug 2021 08:09:09 UTC' title='Mon, 30 Aug 2021 08:09:09 UTC'>(Mon, 30 Aug 2021 08:09:09 UTC)</span>
  </p>
  

        </div>
      </div>
    </footer>
  

  <script src="/static/components/bootstrap/js/bootstrap.min.js"></script>
  <script src="/static/components/headroom.js/dist/headroom.min.js"></script>
  <script src="/static/components/headroom.js/dist/jQuery.headroom.min.js"></script>

  
  
  <script>
    $(function(){ $("#menubar").headroom({
      tolerance: 5,
      offset: 205,
      classes: {
        initial: "animated",
        pinned: "slideInDown",
        unpinned: "slideOutUp"
      }
    })});
  </script>


  
  <script>
    (function(i,s,o,g,r,a,m){i['GoogleAnalyticsObject']=r;i[r]=i[r]||function(){
      (i[r].q=i[r].q||[]).push(arguments)},i[r].l=1*new Date();a=s.createElement(o),
      m=s.getElementsByTagName(o)[0];a.async=1;a.src=g;m.parentNode.insertBefore(a,m)
    })(window,document,'script','https://www.google-analytics.com/analytics.js','ga');
    ga('create', 'UA-52617120-5', 'auto',
       {'storage': 'none'});
    ga('set', 'anonymizeIp', true);
    ga('send', 'pageview');
  </script>
  
  <script>
    require({
        paths: {
          moment: "/static/components/moment/min/moment.min.js"
        }
      }, ["moment"], function(moment){
      var date = $("footer .date"),
        m = moment(new Date(date.data('date'))),
        update = function(){ date.text(m.fromNow()); };
      setInterval(update, 61*1000);
      update();
      var w = $(window).scroll(function(event){
        $("body").toggleClass("scrolled", w.scrollTop() > 0);
      });
    });
  </script>

  <!--NEW RELIC Stop Perf Measurement-->
  
  <!--NEW RELIC End-->
</body>
</html>